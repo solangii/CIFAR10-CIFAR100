{
 "cells": [
  {
   "cell_type": "code",
   "execution_count": 1,
   "id": "0359439b",
   "metadata": {},
   "outputs": [],
   "source": [
    "import numpy as np\n",
    "import pickle\n",
    "import random\n",
    "import time\n",
    "\n",
    "from sklearn.model_selection import train_test_split\n",
    "from sklearn.ensemble import RandomForestClassifier\n",
    "from sklearn.tree import DecisionTreeClassifier\n",
    "from sklearn.svm import SVC"
   ]
  },
  {
   "cell_type": "markdown",
   "id": "53836523",
   "metadata": {},
   "source": [
    "# Hyperparmeter"
   ]
  },
  {
   "cell_type": "code",
   "execution_count": 2,
   "id": "d5a181cd",
   "metadata": {},
   "outputs": [],
   "source": [
    "n_estimator = 50"
   ]
  },
  {
   "cell_type": "markdown",
   "id": "48af56c9",
   "metadata": {},
   "source": [
    "# Dataloader"
   ]
  },
  {
   "cell_type": "code",
   "execution_count": 3,
   "id": "e134ee2f",
   "metadata": {},
   "outputs": [],
   "source": [
    "def unpickle(file):\n",
    "    with open(file, 'rb') as fo:\n",
    "        dict = pickle.load(fo, encoding='bytes')\n",
    "    return dict"
   ]
  },
  {
   "cell_type": "markdown",
   "id": "ee9084be",
   "metadata": {},
   "source": [
    "## Cifar 10"
   ]
  },
  {
   "cell_type": "code",
   "execution_count": 4,
   "id": "d42e624c",
   "metadata": {},
   "outputs": [],
   "source": [
    "path = '/home/solang/CW/CW4/data/cifar-10-batches-py/'"
   ]
  },
  {
   "cell_type": "code",
   "execution_count": 5,
   "id": "6b14926e",
   "metadata": {},
   "outputs": [],
   "source": [
    "datalist = ['data_batch_1', 'data_batch_2', 'data_batch_3', 'data_batch_4', 'data_batch_5']\n",
    "\n",
    "data = np.array([np.array(unpickle(path+i)[b'data'], dtype = np.float32)\n",
    "                 for i in datalist\n",
    "])\n",
    "label = np.array([np.array(unpickle(path+i)[b'labels'], dtype = np.int)\n",
    "                 for i in datalist\n",
    "])\n",
    "data = data.reshape(50000, 3072)\n",
    "label = label.reshape(50000,)"
   ]
  },
  {
   "cell_type": "code",
   "execution_count": 6,
   "id": "e7805941",
   "metadata": {},
   "outputs": [],
   "source": [
    "np.random.seed(100)\n",
    "idx = np.random.choice(50000, 20000, replace=False)"
   ]
  },
  {
   "cell_type": "code",
   "execution_count": 7,
   "id": "196fc0e2",
   "metadata": {},
   "outputs": [],
   "source": [
    "x_train_10 = data[idx]\n",
    "y_train_10 = label[idx]"
   ]
  },
  {
   "cell_type": "code",
   "execution_count": 8,
   "id": "ab42cfe8",
   "metadata": {},
   "outputs": [],
   "source": [
    "x_test_10 = np.array([unpickle(path+'test_batch')[b'data']], dtype = np.float32)\n",
    "y_test_10 = np.array([unpickle(path+'test_batch')[b'labels']], dtype = np.int)\n",
    "\n",
    "\n",
    "x_test_10 = x_test_10.reshape(10000, 3072)\n",
    "y_test_10 = y_test_10.reshape(10000,)"
   ]
  },
  {
   "cell_type": "markdown",
   "id": "a41cb556",
   "metadata": {},
   "source": [
    "## Cifar 100"
   ]
  },
  {
   "cell_type": "code",
   "execution_count": 9,
   "id": "8fb75457",
   "metadata": {},
   "outputs": [],
   "source": [
    "path = '/home/solang/CW/CW4/data/cifar-100-python/'"
   ]
  },
  {
   "cell_type": "code",
   "execution_count": 10,
   "id": "14e8212d",
   "metadata": {},
   "outputs": [],
   "source": [
    "x_train_100 = np.array([unpickle(path+'train')[b'data']], dtype = np.float32)\n",
    "y_train_100 = np.array([unpickle(path+'train')[b'fine_labels']], dtype = np.int)\n",
    "\n",
    "\n",
    "x_train_100 = x_train_100.reshape(50000, 3072)\n",
    "y_train_100 = y_train_100.reshape(50000,)"
   ]
  },
  {
   "cell_type": "code",
   "execution_count": 11,
   "id": "bc7aee6e",
   "metadata": {},
   "outputs": [],
   "source": [
    "np.random.seed(100)\n",
    "idx = np.random.choice(50000, 20000, replace=False)"
   ]
  },
  {
   "cell_type": "code",
   "execution_count": 12,
   "id": "496d2b94",
   "metadata": {},
   "outputs": [],
   "source": [
    "x_train_100 = x_train_100[idx]\n",
    "y_train_100 = y_train_100[idx]"
   ]
  },
  {
   "cell_type": "code",
   "execution_count": 13,
   "id": "22f3c96a",
   "metadata": {},
   "outputs": [],
   "source": [
    "x_test_100 = np.array([unpickle(path+'test')[b'data']], dtype = np.float32)\n",
    "y_test_100 = np.array([unpickle(path+'test')[b'fine_labels']], dtype = np.int)\n",
    "\n",
    "\n",
    "x_test_100 = x_test_100.reshape(10000, 3072)\n",
    "y_test_100 = y_test_100.reshape(10000,)"
   ]
  },
  {
   "cell_type": "markdown",
   "id": "01a0532c",
   "metadata": {},
   "source": [
    "# Train"
   ]
  },
  {
   "cell_type": "markdown",
   "id": "aee48264",
   "metadata": {},
   "source": [
    "## cifar 10"
   ]
  },
  {
   "cell_type": "code",
   "execution_count": 14,
   "id": "e9277caf",
   "metadata": {},
   "outputs": [],
   "source": [
    "rf = RandomForestClassifier(n_estimators=50, random_state=0)"
   ]
  },
  {
   "cell_type": "code",
   "execution_count": 15,
   "id": "4b4e66db",
   "metadata": {},
   "outputs": [],
   "source": [
    "start = time.time()\n",
    "rf.fit(x_train_10, y_train_10)\n",
    "fin = time.time()"
   ]
  },
  {
   "cell_type": "code",
   "execution_count": 16,
   "id": "d1b69d1e",
   "metadata": {},
   "outputs": [
    {
     "name": "stdout",
     "output_type": "stream",
     "text": [
      "runtime :  32.482264041900635 (sec)\n"
     ]
    }
   ],
   "source": [
    "runtime = fin - start\n",
    "print(\"runtime : \", runtime, \"(sec)\")"
   ]
  },
  {
   "cell_type": "code",
   "execution_count": 17,
   "id": "a97d8a09",
   "metadata": {},
   "outputs": [
    {
     "name": "stdout",
     "output_type": "stream",
     "text": [
      "RF model score is  42.19 %\n"
     ]
    }
   ],
   "source": [
    "print(\"RF model score is \", rf.score(x_test_10, y_test_10)*100, \"%\")"
   ]
  },
  {
   "cell_type": "markdown",
   "id": "08693104",
   "metadata": {},
   "source": [
    "## cifar100"
   ]
  },
  {
   "cell_type": "code",
   "execution_count": 18,
   "id": "99a4feb5",
   "metadata": {},
   "outputs": [],
   "source": [
    "rf100 = RandomForestClassifier(n_estimators=50, random_state=0)"
   ]
  },
  {
   "cell_type": "code",
   "execution_count": 19,
   "id": "a60a5c3f",
   "metadata": {},
   "outputs": [],
   "source": [
    "start100 = time.time()\n",
    "rf100.fit(x_train_100, y_train_100)\n",
    "fin100 = time.time()"
   ]
  },
  {
   "cell_type": "code",
   "execution_count": 20,
   "id": "f3dfda17",
   "metadata": {},
   "outputs": [
    {
     "name": "stdout",
     "output_type": "stream",
     "text": [
      "runtime :  105.45937752723694 (sec)\n"
     ]
    }
   ],
   "source": [
    "runtime100 = fin100 - start100\n",
    "print(\"runtime : \", runtime100, \"(sec)\")"
   ]
  },
  {
   "cell_type": "code",
   "execution_count": 21,
   "id": "0d35b79c",
   "metadata": {},
   "outputs": [
    {
     "name": "stdout",
     "output_type": "stream",
     "text": [
      "RF model score is  16.7 %\n"
     ]
    }
   ],
   "source": [
    "print(\"RF model score is \", rf100.score(x_test_100, y_test_100)*100, \"%\")"
   ]
  },
  {
   "cell_type": "markdown",
   "id": "f5eabaa2",
   "metadata": {},
   "source": [
    "# Task 2 - n_estimator 변경"
   ]
  },
  {
   "cell_type": "markdown",
   "id": "d8b1d9c7",
   "metadata": {},
   "source": [
    "## cifar 10"
   ]
  },
  {
   "cell_type": "code",
   "execution_count": 147,
   "id": "b7f06fe9",
   "metadata": {},
   "outputs": [],
   "source": [
    "n25 = RandomForestClassifier(n_estimators=25, random_state=0)\n",
    "n75 = RandomForestClassifier(n_estimators=75, random_state=0)\n",
    "n100 = RandomForestClassifier(n_estimators=100, random_state=0)"
   ]
  },
  {
   "cell_type": "code",
   "execution_count": 148,
   "id": "c5b1dab3",
   "metadata": {},
   "outputs": [],
   "source": [
    "start25 = time.time()\n",
    "n25.fit(x_train_10, y_train_10)\n",
    "fin25 = time.time()"
   ]
  },
  {
   "cell_type": "code",
   "execution_count": 149,
   "id": "f2102fc7",
   "metadata": {},
   "outputs": [],
   "source": [
    "start75 = time.time()\n",
    "n75.fit(x_train_10, y_train_10)\n",
    "fin75 = time.time()"
   ]
  },
  {
   "cell_type": "code",
   "execution_count": 150,
   "id": "d9e4378d",
   "metadata": {},
   "outputs": [],
   "source": [
    "start100 = time.time()\n",
    "n100.fit(x_train_10, y_train_10)\n",
    "fin100 = time.time()"
   ]
  },
  {
   "cell_type": "code",
   "execution_count": 151,
   "id": "385ab64f",
   "metadata": {},
   "outputs": [
    {
     "name": "stdout",
     "output_type": "stream",
     "text": [
      "n25, runtime :  15.953176736831665 (sec)\n",
      "n50, runtime :  39.81969237327576 (sec)\n",
      "n75, runtime :  47.35764193534851 (sec)\n",
      "n100, runtime :  62.21765398979187 (sec)\n"
     ]
    }
   ],
   "source": [
    "rt25 = fin25 - start25\n",
    "rt50 = runtime\n",
    "rt75 = fin75 - start75\n",
    "rt100 = fin100 -start100\n",
    "\n",
    "print(\"n25, runtime : \", rt25, \"(sec)\")\n",
    "print(\"n50, runtime : \", rt50, \"(sec)\")\n",
    "print(\"n75, runtime : \", rt75, \"(sec)\")\n",
    "print(\"n100, runtime : \", rt100, \"(sec)\")"
   ]
  },
  {
   "cell_type": "code",
   "execution_count": 152,
   "id": "f6291808",
   "metadata": {},
   "outputs": [
    {
     "name": "stdout",
     "output_type": "stream",
     "text": [
      "n25, RF model score is  39.07 %\n",
      "n50, RF model score is  42.19 %\n",
      "n75, RF model score is  43.3 %\n",
      "n100, RF model score is  44.42 %\n"
     ]
    }
   ],
   "source": [
    "print(\"n25, RF model score is \", n25.score(x_test_10, y_test_10)*100, \"%\")\n",
    "print(\"n50, RF model score is \", rf.score(x_test_10, y_test_10)*100, \"%\")\n",
    "print(\"n75, RF model score is \", n75.score(x_test_10, y_test_10)*100, \"%\")\n",
    "print(\"n100, RF model score is \", n100.score(x_test_10, y_test_10)*100, \"%\")"
   ]
  },
  {
   "cell_type": "markdown",
   "id": "edf0da33",
   "metadata": {},
   "source": [
    "## cifar 100"
   ]
  },
  {
   "cell_type": "code",
   "execution_count": 153,
   "id": "b12442ba",
   "metadata": {},
   "outputs": [],
   "source": [
    "n25_2 = RandomForestClassifier(n_estimators=25, random_state=0)\n",
    "n75_2 = RandomForestClassifier(n_estimators=75, random_state=0)\n",
    "n100_2 = RandomForestClassifier(n_estimators=100, random_state=0)"
   ]
  },
  {
   "cell_type": "code",
   "execution_count": 154,
   "id": "a35ec79b",
   "metadata": {},
   "outputs": [],
   "source": [
    "start25_2 = time.time()\n",
    "n25_2.fit(x_train_100, y_train_100)\n",
    "fin25_2 = time.time()"
   ]
  },
  {
   "cell_type": "code",
   "execution_count": 155,
   "id": "c896019c",
   "metadata": {},
   "outputs": [],
   "source": [
    "start75_2 = time.time()\n",
    "n75_2.fit(x_train_100, y_train_100)\n",
    "fin75_2 = time.time()"
   ]
  },
  {
   "cell_type": "code",
   "execution_count": 156,
   "id": "283bb502",
   "metadata": {},
   "outputs": [],
   "source": [
    "start100_2 = time.time()\n",
    "n100_2.fit(x_train_100, y_train_100)\n",
    "fin100_2 = time.time()"
   ]
  },
  {
   "cell_type": "code",
   "execution_count": 157,
   "id": "b76b563b",
   "metadata": {},
   "outputs": [
    {
     "name": "stdout",
     "output_type": "stream",
     "text": [
      "n25, runtime :  51.69000601768494 (sec)\n",
      "n50, runtime :  122.42826867103577 (sec)\n",
      "n75, runtime :  171.42675161361694 (sec)\n",
      "n100, runtime :  214.25235772132874 (sec)\n"
     ]
    }
   ],
   "source": [
    "rt25_2 = fin25_2 - start25_2\n",
    "rt50_2 = runtime100\n",
    "rt75_2 = fin75_2 - start75_2\n",
    "rt100_2 = fin100_2 -start100_2\n",
    "\n",
    "print(\"n25, runtime : \", rt25_2, \"(sec)\")\n",
    "print(\"n50, runtime : \", rt50_2, \"(sec)\")\n",
    "print(\"n75, runtime : \", rt75_2, \"(sec)\")\n",
    "print(\"n100, runtime : \", rt100_2, \"(sec)\")"
   ]
  },
  {
   "cell_type": "code",
   "execution_count": 158,
   "id": "5c1f1166",
   "metadata": {},
   "outputs": [
    {
     "name": "stdout",
     "output_type": "stream",
     "text": [
      "n25, RF model score is  14.01 %\n",
      "n50, RF model score is  16.7 %\n",
      "n75, RF model score is  17.86 %\n",
      "n100, RF model score is  18.72 %\n"
     ]
    }
   ],
   "source": [
    "print(\"n25, RF model score is \", n25_2.score(x_test_100, y_test_100)*100, \"%\")\n",
    "print(\"n50, RF model score is \", rf100.score(x_test_100, y_test_100)*100, \"%\")\n",
    "print(\"n75, RF model score is \", n75_2.score(x_test_100, y_test_100)*100, \"%\")\n",
    "print(\"n100, RF model score is \", n100_2.score(x_test_100, y_test_100)*100, \"%\")"
   ]
  },
  {
   "cell_type": "markdown",
   "id": "d069e2d0",
   "metadata": {},
   "source": [
    "# Task 2 - data #"
   ]
  },
  {
   "cell_type": "code",
   "execution_count": 56,
   "id": "ef30371e",
   "metadata": {},
   "outputs": [],
   "source": [
    "n = 50000"
   ]
  },
  {
   "cell_type": "code",
   "execution_count": 57,
   "id": "0ddbf272",
   "metadata": {},
   "outputs": [],
   "source": [
    "path = '/home/solang/CW/CW4/data/cifar-10-batches-py/'\n",
    "\n",
    "datalist = ['data_batch_1', 'data_batch_2', 'data_batch_3', 'data_batch_4', 'data_batch_5']\n",
    "\n",
    "data = np.array([np.array(unpickle(path+i)[b'data'], dtype = np.float32)\n",
    "                 for i in datalist\n",
    "])\n",
    "label = np.array([np.array(unpickle(path+i)[b'labels'], dtype = np.int)\n",
    "                 for i in datalist\n",
    "])\n",
    "data = data.reshape(50000, 3072)\n",
    "label = label.reshape(50000,)"
   ]
  },
  {
   "cell_type": "code",
   "execution_count": 58,
   "id": "71aed1c3",
   "metadata": {},
   "outputs": [],
   "source": [
    "\n",
    "np.random.seed(100)\n",
    "idx = np.random.choice(50000, n, replace=False)"
   ]
  },
  {
   "cell_type": "code",
   "execution_count": 59,
   "id": "5f5c137c",
   "metadata": {},
   "outputs": [],
   "source": [
    "x_train_10 = data[idx]\n",
    "y_train_10 = label[idx]"
   ]
  },
  {
   "cell_type": "code",
   "execution_count": 60,
   "id": "10556669",
   "metadata": {},
   "outputs": [],
   "source": [
    "\n",
    "x_test_10 = np.array([unpickle(path+'test_batch')[b'data']], dtype = np.float32)\n",
    "y_test_10 = np.array([unpickle(path+'test_batch')[b'labels']], dtype = np.int)\n",
    "\n",
    "\n",
    "x_test_10 = x_test_10.reshape(10000, 3072)\n",
    "y_test_10 = y_test_10.reshape(10000,)"
   ]
  },
  {
   "cell_type": "code",
   "execution_count": 61,
   "id": "2b3a3c8e",
   "metadata": {},
   "outputs": [
    {
     "name": "stdout",
     "output_type": "stream",
     "text": [
      "runtime :  85.51582074165344 (sec)\n",
      "RF model score is  44.09 %\n"
     ]
    }
   ],
   "source": [
    "rf10 = RandomForestClassifier(n_estimators=50, random_state=0)\n",
    "start10 = time.time()\n",
    "rf10.fit(x_train_10, y_train_10)\n",
    "fin10 = time.time()\n",
    "\n",
    "runtime10 = fin10 - start10\n",
    "print(\"runtime : \", runtime10, \"(sec)\")\n",
    "print(\"RF model score is \", rf10.score(x_test_10, y_test_10)*100, \"%\")"
   ]
  },
  {
   "cell_type": "markdown",
   "id": "02883898",
   "metadata": {},
   "source": [
    "# Task 2 - SVM, decision tree"
   ]
  },
  {
   "cell_type": "markdown",
   "id": "a22a95c0",
   "metadata": {},
   "source": [
    "## SVM - cifar10"
   ]
  },
  {
   "cell_type": "code",
   "execution_count": 159,
   "id": "d0ebe65e",
   "metadata": {},
   "outputs": [],
   "source": [
    "sv = SVC(kernel='linear')"
   ]
  },
  {
   "cell_type": "code",
   "execution_count": 160,
   "id": "a7111cb8",
   "metadata": {},
   "outputs": [
    {
     "ename": "KeyboardInterrupt",
     "evalue": "",
     "output_type": "error",
     "traceback": [
      "\u001b[0;31m---------------------------------------------------------------------------\u001b[0m",
      "\u001b[0;31mKeyboardInterrupt\u001b[0m                         Traceback (most recent call last)",
      "\u001b[0;32m<ipython-input-160-7b245a35944b>\u001b[0m in \u001b[0;36m<module>\u001b[0;34m\u001b[0m\n\u001b[1;32m      1\u001b[0m \u001b[0mstart_svm\u001b[0m \u001b[0;34m=\u001b[0m \u001b[0mtime\u001b[0m\u001b[0;34m.\u001b[0m\u001b[0mtime\u001b[0m\u001b[0;34m(\u001b[0m\u001b[0;34m)\u001b[0m\u001b[0;34m\u001b[0m\u001b[0;34m\u001b[0m\u001b[0m\n\u001b[0;32m----> 2\u001b[0;31m \u001b[0msv\u001b[0m\u001b[0;34m.\u001b[0m\u001b[0mfit\u001b[0m\u001b[0;34m(\u001b[0m\u001b[0mx_train_10\u001b[0m\u001b[0;34m,\u001b[0m \u001b[0my_train_10\u001b[0m\u001b[0;34m)\u001b[0m\u001b[0;34m\u001b[0m\u001b[0;34m\u001b[0m\u001b[0m\n\u001b[0m\u001b[1;32m      3\u001b[0m \u001b[0mfin_svm\u001b[0m \u001b[0;34m=\u001b[0m \u001b[0mtime\u001b[0m\u001b[0;34m.\u001b[0m\u001b[0mtime\u001b[0m\u001b[0;34m(\u001b[0m\u001b[0;34m)\u001b[0m\u001b[0;34m\u001b[0m\u001b[0;34m\u001b[0m\u001b[0m\n",
      "\u001b[0;32m~/.local/lib/python3.6/site-packages/sklearn/svm/_base.py\u001b[0m in \u001b[0;36mfit\u001b[0;34m(self, X, y, sample_weight)\u001b[0m\n\u001b[1;32m    224\u001b[0m \u001b[0;34m\u001b[0m\u001b[0m\n\u001b[1;32m    225\u001b[0m         \u001b[0mseed\u001b[0m \u001b[0;34m=\u001b[0m \u001b[0mrnd\u001b[0m\u001b[0;34m.\u001b[0m\u001b[0mrandint\u001b[0m\u001b[0;34m(\u001b[0m\u001b[0mnp\u001b[0m\u001b[0;34m.\u001b[0m\u001b[0miinfo\u001b[0m\u001b[0;34m(\u001b[0m\u001b[0;34m'i'\u001b[0m\u001b[0;34m)\u001b[0m\u001b[0;34m.\u001b[0m\u001b[0mmax\u001b[0m\u001b[0;34m)\u001b[0m\u001b[0;34m\u001b[0m\u001b[0;34m\u001b[0m\u001b[0m\n\u001b[0;32m--> 226\u001b[0;31m         \u001b[0mfit\u001b[0m\u001b[0;34m(\u001b[0m\u001b[0mX\u001b[0m\u001b[0;34m,\u001b[0m \u001b[0my\u001b[0m\u001b[0;34m,\u001b[0m \u001b[0msample_weight\u001b[0m\u001b[0;34m,\u001b[0m \u001b[0msolver_type\u001b[0m\u001b[0;34m,\u001b[0m \u001b[0mkernel\u001b[0m\u001b[0;34m,\u001b[0m \u001b[0mrandom_seed\u001b[0m\u001b[0;34m=\u001b[0m\u001b[0mseed\u001b[0m\u001b[0;34m)\u001b[0m\u001b[0;34m\u001b[0m\u001b[0;34m\u001b[0m\u001b[0m\n\u001b[0m\u001b[1;32m    227\u001b[0m         \u001b[0;31m# see comment on the other call to np.iinfo in this file\u001b[0m\u001b[0;34m\u001b[0m\u001b[0;34m\u001b[0m\u001b[0;34m\u001b[0m\u001b[0m\n\u001b[1;32m    228\u001b[0m \u001b[0;34m\u001b[0m\u001b[0m\n",
      "\u001b[0;32m~/.local/lib/python3.6/site-packages/sklearn/svm/_base.py\u001b[0m in \u001b[0;36m_dense_fit\u001b[0;34m(self, X, y, sample_weight, solver_type, kernel, random_seed)\u001b[0m\n\u001b[1;32m    283\u001b[0m                 \u001b[0mcache_size\u001b[0m\u001b[0;34m=\u001b[0m\u001b[0mself\u001b[0m\u001b[0;34m.\u001b[0m\u001b[0mcache_size\u001b[0m\u001b[0;34m,\u001b[0m \u001b[0mcoef0\u001b[0m\u001b[0;34m=\u001b[0m\u001b[0mself\u001b[0m\u001b[0;34m.\u001b[0m\u001b[0mcoef0\u001b[0m\u001b[0;34m,\u001b[0m\u001b[0;34m\u001b[0m\u001b[0;34m\u001b[0m\u001b[0m\n\u001b[1;32m    284\u001b[0m                 \u001b[0mgamma\u001b[0m\u001b[0;34m=\u001b[0m\u001b[0mself\u001b[0m\u001b[0;34m.\u001b[0m\u001b[0m_gamma\u001b[0m\u001b[0;34m,\u001b[0m \u001b[0mepsilon\u001b[0m\u001b[0;34m=\u001b[0m\u001b[0mself\u001b[0m\u001b[0;34m.\u001b[0m\u001b[0mepsilon\u001b[0m\u001b[0;34m,\u001b[0m\u001b[0;34m\u001b[0m\u001b[0;34m\u001b[0m\u001b[0m\n\u001b[0;32m--> 285\u001b[0;31m                 max_iter=self.max_iter, random_seed=random_seed)\n\u001b[0m\u001b[1;32m    286\u001b[0m \u001b[0;34m\u001b[0m\u001b[0m\n\u001b[1;32m    287\u001b[0m         \u001b[0mself\u001b[0m\u001b[0;34m.\u001b[0m\u001b[0m_warn_from_fit_status\u001b[0m\u001b[0;34m(\u001b[0m\u001b[0;34m)\u001b[0m\u001b[0;34m\u001b[0m\u001b[0;34m\u001b[0m\u001b[0m\n",
      "\u001b[0;31mKeyboardInterrupt\u001b[0m: "
     ]
    }
   ],
   "source": [
    "start_svm = time.time()\n",
    "sv.fit(x_train_10, y_train_10)\n",
    "fin_svm = time.time()"
   ]
  },
  {
   "cell_type": "code",
   "execution_count": null,
   "id": "71c06766",
   "metadata": {},
   "outputs": [],
   "source": [
    "rt_svm = fin_svm - start_svm\n",
    "print(\"SVM, runtime : \", rt_svm, \"(sec)\")"
   ]
  },
  {
   "cell_type": "code",
   "execution_count": null,
   "id": "8063eba2",
   "metadata": {},
   "outputs": [],
   "source": [
    "print(\"SVM model score is \", sv.score(x_test_10, y_test_10)*100, \"%\")"
   ]
  },
  {
   "cell_type": "markdown",
   "id": "1284b1bb",
   "metadata": {},
   "source": [
    "## SVM - cifar100"
   ]
  },
  {
   "cell_type": "code",
   "execution_count": null,
   "id": "62eb74cd",
   "metadata": {},
   "outputs": [],
   "source": [
    "sv2 = SVC(kernel='linear')"
   ]
  },
  {
   "cell_type": "code",
   "execution_count": null,
   "id": "2ccbb01b",
   "metadata": {},
   "outputs": [],
   "source": [
    "start_svm2 = time.time()\n",
    "sv2.fit(x_train_100, y_train_100)\n",
    "fin_svm2 = time.time()"
   ]
  },
  {
   "cell_type": "code",
   "execution_count": null,
   "id": "774ba54b",
   "metadata": {},
   "outputs": [],
   "source": [
    "rt_svm2 = fin_svm2 - start_svm2\n",
    "print(\"SVM, runtime : \", rt_svm2, \"(sec)\")"
   ]
  },
  {
   "cell_type": "code",
   "execution_count": null,
   "id": "06b5f818",
   "metadata": {},
   "outputs": [],
   "source": [
    "print(\"SVM model score is \", sv2.score(x_test_100, y_test_100)*100, \"%\")"
   ]
  },
  {
   "cell_type": "markdown",
   "id": "56a64c1a",
   "metadata": {},
   "source": [
    "## Decision Tree - cifar10"
   ]
  },
  {
   "cell_type": "code",
   "execution_count": null,
   "id": "deb32596",
   "metadata": {},
   "outputs": [],
   "source": [
    "dt = DecisionTreeClassifier(random_state=0)"
   ]
  },
  {
   "cell_type": "code",
   "execution_count": null,
   "id": "2a209efb",
   "metadata": {},
   "outputs": [],
   "source": [
    "start_dt = time.time()\n",
    "dt.fit(x_train_10, y_train_10)\n",
    "fin_dt = time.time()"
   ]
  },
  {
   "cell_type": "code",
   "execution_count": null,
   "id": "73feb25c",
   "metadata": {},
   "outputs": [],
   "source": [
    "rt_dt = fin_dt - start_dt\n",
    "print(\"Decision Tree, runtime : \", rt_dt, \"(sec)\")"
   ]
  },
  {
   "cell_type": "code",
   "execution_count": null,
   "id": "54ef1b60",
   "metadata": {},
   "outputs": [],
   "source": [
    "print(\"Decision Tree model score is \", dt.score(x_test_10, y_test_10)*100, \"%\")"
   ]
  },
  {
   "cell_type": "markdown",
   "id": "a1996d4a",
   "metadata": {},
   "source": [
    "## Decision Tree - cifar100"
   ]
  },
  {
   "cell_type": "code",
   "execution_count": null,
   "id": "e35b7917",
   "metadata": {},
   "outputs": [],
   "source": [
    "dt2 = DecisionTreeClassifier(random_state=0)"
   ]
  },
  {
   "cell_type": "code",
   "execution_count": null,
   "id": "c1eb95ef",
   "metadata": {},
   "outputs": [],
   "source": [
    "start_dt2 = time.time()\n",
    "dt2.fit(x_train_100, y_train_100)\n",
    "fin_dt2 = time.time()"
   ]
  },
  {
   "cell_type": "code",
   "execution_count": null,
   "id": "360cca79",
   "metadata": {},
   "outputs": [],
   "source": [
    "rt_dt2 = fin_dt2 - start_dt2\n",
    "print(\"Decision Tree, runtime : \", rt_dt2, \"(sec)\")"
   ]
  },
  {
   "cell_type": "code",
   "execution_count": null,
   "id": "c4617249",
   "metadata": {},
   "outputs": [],
   "source": [
    "print(\"Decision Tree model score is \", dt2.score(x_test_100, y_test_100)*100, \"%\")"
   ]
  }
 ],
 "metadata": {
  "kernelspec": {
   "display_name": "Python 3",
   "language": "python",
   "name": "python3"
  },
  "language_info": {
   "codemirror_mode": {
    "name": "ipython",
    "version": 3
   },
   "file_extension": ".py",
   "mimetype": "text/x-python",
   "name": "python",
   "nbconvert_exporter": "python",
   "pygments_lexer": "ipython3",
   "version": "3.6.12"
  }
 },
 "nbformat": 4,
 "nbformat_minor": 5
}
